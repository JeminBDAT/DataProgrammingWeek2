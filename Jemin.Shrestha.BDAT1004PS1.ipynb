{
 "cells": [
  {
   "cell_type": "markdown",
   "id": "5f09d94d",
   "metadata": {},
   "source": [
    "# Problem Set 1"
   ]
  },
  {
   "cell_type": "markdown",
   "id": "a5aeb986",
   "metadata": {},
   "source": [
    "# Question 1\n",
    "What data type is each of the following (evaluate where necessary)?\n",
    "\n",
    "- (a) 5\n",
    "- (b) 5.0\n",
    "- (c) 5 > 1\n",
    "- (d) '5'\n",
    "- (e) 5 * 2\n",
    "- (f) '5' * 2\n",
    "- (g) '5' + '2'\n",
    "- (h) 5 / 2\n",
    "- (i) 5 % 2\n",
    "- (j) {5, 2, 1}\n",
    "- (k) 5 == 3\n",
    "- (l) Pi (the number)\n"
   ]
  },
  {
   "cell_type": "markdown",
   "id": "eaf4fcd6",
   "metadata": {},
   "source": [
    "## Answer 1\n",
    "\n",
    "- (a) Integer\n",
    "- (b) Float\n",
    "- (c) Boolean \n",
    "- (d) String\n",
    "- (e) Integer\n",
    "- (f) String - Output('55')\n",
    "- (g) String - ('52')\n",
    "- (h) Float\n",
    "- (i) Integer\n",
    "- (j) Set\n",
    "- (k) Boolean - Check Condition\n",
    "- (l) Float - Since the value is 3.12\n"
   ]
  },
  {
   "cell_type": "markdown",
   "id": "cdcb88ae",
   "metadata": {},
   "source": [
    "# Question 2\n",
    "\n",
    "#### Write (and evaluate) python expressions that answer these questions:\n",
    "##### a. How many letters are there in 'Supercalifragilisticexpialidocious'?"
   ]
  },
  {
   "cell_type": "code",
   "execution_count": 1,
   "id": "d6dbf659",
   "metadata": {},
   "outputs": [
    {
     "name": "stdout",
     "output_type": "stream",
     "text": [
      "There are total 34 letters.\n"
     ]
    }
   ],
   "source": [
    "container = 'Supercalifragilisticexpialidocious'\n",
    "count = len(container)\n",
    "print(f'There are total {count} letters.')"
   ]
  },
  {
   "cell_type": "markdown",
   "id": "86ca1912",
   "metadata": {},
   "source": [
    "##### b. Does 'Supercalifragilisticexpialidocious' contain 'ice' as a substring?"
   ]
  },
  {
   "cell_type": "code",
   "execution_count": 2,
   "id": "eba5af69",
   "metadata": {},
   "outputs": [
    {
     "name": "stdout",
     "output_type": "stream",
     "text": [
      "It contains ice as substring.\n"
     ]
    }
   ],
   "source": [
    "container = 'Supercalifragilisticexpialidocious'\n",
    "find = 'ice'\n",
    "\n",
    "if find in container:\n",
    "    print('It contains ice as substring.')\n",
    "else:\n",
    "    print('It does not contain ice as substring.')"
   ]
  },
  {
   "cell_type": "markdown",
   "id": "0e9df65a",
   "metadata": {},
   "source": [
    "##### c. Which of the following words is the longest: Supercalifragilisticexpialidocious, Honorificabilitudinitatibus, or Bababadalgharaghtakamminarronnkonn?"
   ]
  },
  {
   "cell_type": "code",
   "execution_count": 3,
   "id": "fa3a017a",
   "metadata": {},
   "outputs": [
    {
     "name": "stdout",
     "output_type": "stream",
     "text": [
      "The longest word is Supercalifragilisticexpialidocious with 34 characters.\n"
     ]
    }
   ],
   "source": [
    "list = ('Supercalifragilisticexpialidocious','Honorificabilitudinitatibus','Bababadalgharaghtakamminarronnkonn')\n",
    "\n",
    "empty_list = ''\n",
    "empty_count = 0\n",
    "for i in list:\n",
    "    if len(i)>len(empty_list):\n",
    "        empty_list = i\n",
    "        empty_count = len(i)\n",
    "\n",
    "print(f'The longest word is {empty_list} with {empty_count} characters.')\n",
    "\n",
    "# empty_list holds the maximum value and empty_count stores the count for maximum value."
   ]
  },
  {
   "cell_type": "markdown",
   "id": "8df7b917",
   "metadata": {},
   "source": [
    "##### d. Which composer comes first in the dictionary: 'Berlioz', 'Borodin', 'Brian', 'Bartok', 'Bellini', 'Buxtehude', 'Bernstein'. Which one comes last?"
   ]
  },
  {
   "cell_type": "code",
   "execution_count": 4,
   "id": "5bdf8302",
   "metadata": {},
   "outputs": [
    {
     "name": "stdout",
     "output_type": "stream",
     "text": [
      "The first composer in dictionary is Bartok while the last is Buxtehude\n"
     ]
    }
   ],
   "source": [
    "container = ['Berlioz', 'Borodin', 'Brian', 'Bartok', 'Bellini', 'Buxtehude', 'Bernstein']\n",
    "\n",
    "print(f'The first composer in dictionary is {min(container)} while the last is {max(container)}')"
   ]
  },
  {
   "cell_type": "markdown",
   "id": "8fdb656b",
   "metadata": {},
   "source": [
    "# Question 3\n",
    "Implement function triangleArea(a,b,c) that takes as input the lengths of the 3 sides of a triangle and returns the area of the triangle. By Heron's formula, the area\n",
    "of a triangle with side lengths a, b, and c is\n",
    "Root of (s(s - a)(s -b)(s -c))\n",
    ", where\n",
    "s = (a+b+c)/2. "
   ]
  },
  {
   "cell_type": "code",
   "execution_count": 19,
   "id": "d839b3a1",
   "metadata": {},
   "outputs": [
    {
     "name": "stdout",
     "output_type": "stream",
     "text": [
      "Enter first side of triangle: 2\n",
      "Enter second side of triangle: 2\n",
      "Enter third side of triangle: 2\n",
      "\n",
      "The area of triangle is: 1.7320508075688772\n"
     ]
    }
   ],
   "source": [
    "#With Function\n",
    "#didnot use math module/sqrt function\n",
    "def CalcAOT(a,b,c):\n",
    "    s = (a+b+c)/2\n",
    "    sqr = s*(s-a)*(s-b)*(s-c)\n",
    "    areaOfTriangle = sqr ** 0.5 #calculates area by taking square root\n",
    "    return(areaOfTriangle)\n",
    "\n",
    "a = float(input('Enter first side of triangle: '))\n",
    "b = float(input('Enter second side of triangle: '))\n",
    "c = float(input('Enter third side of triangle: '))\n",
    "\n",
    "print(f'\\nThe area of triangle is: {CalcAOT(a,b,c)}')"
   ]
  },
  {
   "cell_type": "markdown",
   "id": "7a71a1b3",
   "metadata": {},
   "source": [
    "# Question 4\n",
    "Write a program in python to separate odd and even integers in separate arrays. Go to the editor\n",
    "Test Data :\n",
    "Input the number of elements to be stored in the array :5\n",
    "Input 5 elements in the array :\n",
    "- element - 0 : 25\n",
    "- element - 1 : 47\n",
    "- element - 2 : 42\n",
    "- element - 3 : 56\n",
    "- element - 4 : 32"
   ]
  },
  {
   "cell_type": "code",
   "execution_count": 14,
   "id": "6bbe20b0",
   "metadata": {},
   "outputs": [
    {
     "name": "stdout",
     "output_type": "stream",
     "text": [
      "The odd number in odd_arr are stored as: [25, 47]\n",
      "The odd number in even_arr are stored as: [42, 56, 32]\n"
     ]
    }
   ],
   "source": [
    "arr = [25,47,42,56,32]\n",
    "odd_arr = []\n",
    "even_arr = []\n",
    "\n",
    "for i in arr:\n",
    "    if i % 2 == 0:\n",
    "        even_arr.append(i)\n",
    "    else:\n",
    "        odd_arr.append(i)\n",
    "#.append adds new elements to the array.\n",
    "\n",
    "print(f'The odd number in odd_arr are stored as: {odd_arr}');\n",
    "print(f'The odd number in even_arr are stored as: {even_arr}');\n"
   ]
  },
  {
   "cell_type": "markdown",
   "id": "0bdb2f4f",
   "metadata": {},
   "source": [
    "# Question 5\n",
    "\n",
    "a. Write a function inside(x,y,x1,y1,x2,y2) that returns True or False depending on whether the point (x,y) lies in the rectangle with lower left corner (x1,y1) and upper right corner (x2,y2).\n"
   ]
  },
  {
   "cell_type": "code",
   "execution_count": 28,
   "id": "f2670897",
   "metadata": {},
   "outputs": [
    {
     "name": "stdout",
     "output_type": "stream",
     "text": [
      "True\n"
     ]
    }
   ],
   "source": [
    "def inside(x,y,x1,y1,x2,y2):\n",
    "    if x1 <= x <= x2 and y1 <= y <= y2:\n",
    "        return True\n",
    "    else:\n",
    "        return False\n",
    "\n",
    "print(inside(1,1,0,0,2,3));\n",
    "#print(inside(-1, -1, 0, 0, 2, 3));"
   ]
  },
  {
   "cell_type": "markdown",
   "id": "eb616aa9",
   "metadata": {},
   "source": [
    "b. Use function inside() from part a. to write an expression that tests whether the point (1,1) lies in both of the following rectangles: one with lower left corner (0.3, 0.5) and upper right corner (1.1, 0.7) and the other with lower left corner (0.5, 0.2) and upper right corner (1.1, 2). "
   ]
  },
  {
   "cell_type": "code",
   "execution_count": 34,
   "id": "8b6330ed",
   "metadata": {},
   "outputs": [
    {
     "name": "stdout",
     "output_type": "stream",
     "text": [
      "Enter point x: 1\n",
      "Enter point y: 1\n",
      "Enter lower left point x1: 0.3\n",
      "Enter lower left point y1: 0.5\n",
      "Enter upper right point x2: 1.1\n",
      "Enter upper right point y2: 0.7\n",
      "\n",
      "It doesnot lie within the rectangle\n"
     ]
    }
   ],
   "source": [
    "x = float(input('Enter point x: '));\n",
    "y = float(input('Enter point y: '));\n",
    "\n",
    "x1 = float(input('Enter lower left point x1: '));\n",
    "y1 = float(input('Enter lower left point y1: '));\n",
    "\n",
    "x2 = float(input('Enter upper right point x2: '));\n",
    "y2 = float(input('Enter upper right point y2: '));\n",
    "\n",
    "res = inside(x,y,x1,y1,x2,y2);\n",
    "if res == True:\n",
    "    print('\\nIt lies within the rectangle')\n",
    "else:\n",
    "    print('\\nIt doesnot lie within the rectangle');"
   ]
  },
  {
   "cell_type": "code",
   "execution_count": 35,
   "id": "5025e22c",
   "metadata": {},
   "outputs": [
    {
     "name": "stdout",
     "output_type": "stream",
     "text": [
      "Enter point x: 1\n",
      "Enter point y: 1\n",
      "Enter lower left point x1: 0.5\n",
      "Enter lower left point y1: 0.2\n",
      "Enter upper right point x2: 1.1\n",
      "Enter upper right point y2: 2\n",
      "\n",
      "It lies within the rectangle\n"
     ]
    }
   ],
   "source": [
    "x = float(input('Enter point x: '));\n",
    "y = float(input('Enter point y: '));\n",
    "\n",
    "x1 = float(input('Enter lower left point x1: '));\n",
    "y1 = float(input('Enter lower left point y1: '));\n",
    "\n",
    "x2 = float(input('Enter upper right point x2: '));\n",
    "y2 = float(input('Enter upper right point y2: '));\n",
    "\n",
    "res = inside(x,y,x1,y1,x2,y2);\n",
    "if res == True:\n",
    "    print('\\nIt lies within the rectangle')\n",
    "else:\n",
    "    print('\\nIt doesnot lie within the rectangle');"
   ]
  },
  {
   "cell_type": "markdown",
   "id": "92f9e0c3",
   "metadata": {},
   "source": [
    "# Question 6\n",
    "You can turn a word into pig-Latin using the following two rules (simplified):\n",
    "-  If the word starts with a consonant, move that letter to the end and append 'ay'. For example, 'happy' becomes 'appyhay' and 'pencil' becomes 'encilpay'.\n",
    "-  If the word starts with a vowel, simply append 'way' to the end of the word.\n",
    "\n",
    "For example, 'enter' becomes 'enterway' and 'other' becomes 'otherway' . For our purposes, there are 5 vowels: a, e, i, o, u (so we count y as a consonant).\n",
    "\n",
    "Write a function pig() that takes a word (i.e., a string) as input and returns its pigLatin form. Your function should still work if the input word contains upper case characters. Your output should always be lower case however. "
   ]
  },
  {
   "cell_type": "code",
   "execution_count": 47,
   "id": "f0ca43a7",
   "metadata": {
    "scrolled": true
   },
   "outputs": [
    {
     "name": "stdout",
     "output_type": "stream",
     "text": [
      "Enter a word: PeNcil\n",
      "encilpay\n"
     ]
    }
   ],
   "source": [
    "def pig(inp_text):\n",
    "    inp_text = inp_text.lower()  # Convert to lowercase\n",
    "    if inp_text[0] in ('a', 'e', 'i', 'o', 'u'):\n",
    "        new_text = inp_text + 'way'\n",
    "    else:\n",
    "        new_text = inp_text[1:] + inp_text[0] + 'ay'\n",
    "    return new_text\n",
    "\n",
    "container = input('Enter a word: ').lower()  # Corrected to call lower() method\n",
    "\n",
    "print(pig(container))\n"
   ]
  },
  {
   "cell_type": "markdown",
   "id": "a78c009a",
   "metadata": {},
   "source": [
    "# Question 7\n",
    "File bloodtype1.txt records blood-types of patients (A, B, AB, O or OO) at a clinic. Write a function bldcount() that reads the file with name name and reports (i.e., prints) how many patients there are in each bloodtype."
   ]
  },
  {
   "cell_type": "code",
   "execution_count": 52,
   "id": "b36218a2",
   "metadata": {},
   "outputs": [
    {
     "name": "stdout",
     "output_type": "stream",
     "text": [
      "There are 15 patients of blood type A.\n",
      "There are 13 patients of blood type AB.\n",
      "There are 15 patients of blood type O.\n",
      "There is one patient of blood type B.\n",
      "There are 0 patients of blood type OO.\n"
     ]
    }
   ],
   "source": [
    "txt_path = '../Datasets/bloodtype1.txt';\n",
    "\n",
    "def bldcount():\n",
    "    # Setting blood types dictionaries\n",
    "    blood_type_counts = {\n",
    "        'A': 0,\n",
    "        'AB': 0,\n",
    "        'O': 0,\n",
    "        'B': 0,\n",
    "        'OO': 0\n",
    "    }\n",
    "\n",
    "    # Opening the file in read-only mode\n",
    "    with open(txt_path, 'r') as file:\n",
    "        for line in file:\n",
    "            blood_types = line.split()\n",
    "            #checking if the blood type is in dictionary and if it is then counting the number of blood types.\n",
    "            for cnt_blood_type in blood_types:\n",
    "                if cnt_blood_type in blood_type_counts:\n",
    "                    blood_type_counts[cnt_blood_type] += 1\n",
    "                    \n",
    "    for cnt_blood_type, count in blood_type_counts.items():\n",
    "        if count == 1:\n",
    "            print(f\"There is one patient of blood type {cnt_blood_type}.\")\n",
    "        else:\n",
    "            print(f\"There are {count} patients of blood type {cnt_blood_type}.\")\n",
    "\n",
    "bldcount()  "
   ]
  },
  {
   "cell_type": "markdown",
   "id": "5667748b",
   "metadata": {},
   "source": [
    "# Question 8\n",
    "Write a function curconv() that takes as input:\n",
    "1. a currency represented using a string (e.g., 'JPY' for the Japanese Yen or 'EUR' for the Euro)\n",
    "2. an amount and then converts and returns the amount in US dollars.\n",
    "\n",
    "| Currency      | Rate        | Country           |\n",
    "| :---          |    :----:  |          ---:     |\n",
    "| AUD           | 1.0345157  | Australian Dollar |\n",
    "| CHF           | 1.0237414  | Swiss Franc       |\n",
    "| CNY           | 0.1550176  | Chinese Yuan      |\n",
    "| DKK           | 0.1651442  | Danish Krone      |\n",
    "| EUR           | 1.2296544  | Euro              |\n",
    "| GBP           | 1.5550989  | British Pound     |\n",
    "| HKD           | 0.1270207  | Hong Kong Dollar  |\n",
    "| INR           | 0.0177643  | Indian Rupee      |\n",
    "| JPY           | 0.01241401 | Japanese Yen      |\n",
    "| MXN           | 0.0751848  | Mexican Peso      |\n",
    "| MYR           | 0.3145411  | Malaysian Ringgit |\n",
    "| NOK           | 0.1677063  | Norwegian Krone   |\n",
    "| NZD           | 0.8003591  | New Zealand Dollar|\n",
    "| PHP           | 0.0233234  | Philippine Peso   |\n",
    "| SEK           | 0.148269   | Swedish Krona     |\n",
    "| SGD           | 0.788871   | Singapore Dollar  |\n",
    "| THB           | 0.0313789  | Thai Baht         |\n"
   ]
  },
  {
   "cell_type": "code",
   "execution_count": 81,
   "id": "c96b9bf7",
   "metadata": {},
   "outputs": [
    {
     "name": "stdout",
     "output_type": "stream",
     "text": [
      "Enter currency: JPY\n",
      "Enter the amount: 100\n",
      "\n",
      "100.0 JPY is equivalent to 1.241401 USD\n"
     ]
    }
   ],
   "source": [
    "txt_path = '../Datasets/currencies.txt'\n",
    "\n",
    "def currconv(input_currency, value):\n",
    "    exchange_rates = {}\n",
    "    # Opening the currencies.txt file\n",
    "    with open(txt_path, 'r') as file:\n",
    "        for line in file:\n",
    "            currency, rate, amount = line.strip().split('\\t')\n",
    "            exchange_rates[currency] = float(rate)\n",
    "    # After assigning the currencies in dictionary we are checking and converting\n",
    "    if input_currency in exchange_rates:\n",
    "        usd_rate = exchange_rates[input_currency]\n",
    "        usd_amount = usd_rate * value\n",
    "        return usd_amount  \n",
    "    else:\n",
    "        return None\n",
    "\n",
    "input_currency = input('Enter currency: ').upper()\n",
    "amount = float(input('Enter the amount: '))\n",
    "\n",
    "converted_amount = currconv(input_currency, amount)\n",
    "\n",
    "if converted_amount is not None:\n",
    "    print(f'\\n{amount} {input_currency} is equivalent to {converted_amount:} USD')\n",
    "else:\n",
    "    print(f'\\nSorry, the currency conversion for {input_currency} is not available in our database.')\n"
   ]
  },
  {
   "cell_type": "markdown",
   "id": "7eaa8933",
   "metadata": {},
   "source": [
    "# Question 9\n",
    "Each of the following will cause an exception (an error). Identify what type of exception each will cause.\n",
    "\n",
    "- Trying to add incompatible variables, as in adding 6 + ‘a’\n",
    "\n",
    "##### It wil give us unsupported operand types\n"
   ]
  },
  {
   "cell_type": "code",
   "execution_count": 82,
   "id": "92d0ecec",
   "metadata": {},
   "outputs": [
    {
     "ename": "TypeError",
     "evalue": "unsupported operand type(s) for +: 'int' and 'str'",
     "output_type": "error",
     "traceback": [
      "\u001b[1;31m---------------------------------------------------------------------------\u001b[0m",
      "\u001b[1;31mTypeError\u001b[0m                                 Traceback (most recent call last)",
      "Cell \u001b[1;32mIn[82], line 1\u001b[0m\n\u001b[1;32m----> 1\u001b[0m \u001b[38;5;28mprint\u001b[39m(\u001b[38;5;241m6\u001b[39m\u001b[38;5;241m+\u001b[39m\u001b[38;5;124m'\u001b[39m\u001b[38;5;124ma\u001b[39m\u001b[38;5;124m'\u001b[39m)\n",
      "\u001b[1;31mTypeError\u001b[0m: unsupported operand type(s) for +: 'int' and 'str'"
     ]
    }
   ],
   "source": [
    "print(6+'a')"
   ]
  },
  {
   "cell_type": "markdown",
   "id": "fb0c7183",
   "metadata": {},
   "source": [
    "- Referring to the 12th item of a list that has only 10 items\n",
    "\n",
    "##### It gives us list index out of range error"
   ]
  },
  {
   "cell_type": "code",
   "execution_count": 83,
   "id": "19f87c8e",
   "metadata": {},
   "outputs": [
    {
     "ename": "IndexError",
     "evalue": "list index out of range",
     "output_type": "error",
     "traceback": [
      "\u001b[1;31m---------------------------------------------------------------------------\u001b[0m",
      "\u001b[1;31mIndexError\u001b[0m                                Traceback (most recent call last)",
      "Cell \u001b[1;32mIn[83], line 3\u001b[0m\n\u001b[0;32m      1\u001b[0m a\u001b[38;5;241m=\u001b[39m[\u001b[38;5;241m1\u001b[39m,\u001b[38;5;241m2\u001b[39m,\u001b[38;5;241m3\u001b[39m,\u001b[38;5;241m4\u001b[39m,\u001b[38;5;241m5\u001b[39m,\u001b[38;5;241m6\u001b[39m,\u001b[38;5;241m7\u001b[39m,\u001b[38;5;241m8\u001b[39m,\u001b[38;5;241m9\u001b[39m,\u001b[38;5;241m10\u001b[39m]\n\u001b[1;32m----> 3\u001b[0m \u001b[38;5;28mprint\u001b[39m(a[\u001b[38;5;241m12\u001b[39m])\n",
      "\u001b[1;31mIndexError\u001b[0m: list index out of range"
     ]
    }
   ],
   "source": [
    "a=[1,2,3,4,5,6,7,8,9,10]\n",
    "\n",
    "print(a[12]);"
   ]
  },
  {
   "cell_type": "markdown",
   "id": "1612127d",
   "metadata": {},
   "source": [
    "- Using a value that is out of range for a function’s input, such as calling math.sqrt(-1.0)\n",
    "\n",
    "##### It gives us TypeError as the function takes only 1 argument"
   ]
  },
  {
   "cell_type": "code",
   "execution_count": 87,
   "id": "a7129418",
   "metadata": {},
   "outputs": [
    {
     "ename": "TypeError",
     "evalue": "math.sqrt() takes exactly one argument (2 given)",
     "output_type": "error",
     "traceback": [
      "\u001b[1;31m---------------------------------------------------------------------------\u001b[0m",
      "\u001b[1;31mTypeError\u001b[0m                                 Traceback (most recent call last)",
      "Cell \u001b[1;32mIn[87], line 3\u001b[0m\n\u001b[0;32m      1\u001b[0m \u001b[38;5;28;01mimport\u001b[39;00m \u001b[38;5;21;01mmath\u001b[39;00m\n\u001b[1;32m----> 3\u001b[0m res \u001b[38;5;241m=\u001b[39m math\u001b[38;5;241m.\u001b[39msqrt(\u001b[38;5;241m-\u001b[39m\u001b[38;5;241m1\u001b[39m,\u001b[38;5;241m0\u001b[39m)\n",
      "\u001b[1;31mTypeError\u001b[0m: math.sqrt() takes exactly one argument (2 given)"
     ]
    }
   ],
   "source": [
    "import math\n",
    "\n",
    "res = math.sqrt(-1,0)"
   ]
  },
  {
   "cell_type": "markdown",
   "id": "be97fbab",
   "metadata": {},
   "source": [
    "- Using an undeclared variable, such as print(x) when x has not been defined \n",
    "\n",
    "##### It gives us NameError as the variable is not defined."
   ]
  },
  {
   "cell_type": "code",
   "execution_count": 89,
   "id": "d24a45f0",
   "metadata": {},
   "outputs": [
    {
     "ename": "NameError",
     "evalue": "name 'undeclaredvar' is not defined",
     "output_type": "error",
     "traceback": [
      "\u001b[1;31m---------------------------------------------------------------------------\u001b[0m",
      "\u001b[1;31mNameError\u001b[0m                                 Traceback (most recent call last)",
      "Cell \u001b[1;32mIn[89], line 1\u001b[0m\n\u001b[1;32m----> 1\u001b[0m \u001b[38;5;28mprint\u001b[39m(undeclaredvar)\n",
      "\u001b[1;31mNameError\u001b[0m: name 'undeclaredvar' is not defined"
     ]
    }
   ],
   "source": [
    "print(undeclaredvar)"
   ]
  },
  {
   "cell_type": "markdown",
   "id": "c81f101e",
   "metadata": {},
   "source": [
    "- Trying to open a file that does not exist, such as mistyping the file name or looking in the wrong directory. \n",
    "\n",
    "##### It gives us FileNotFoundError      "
   ]
  },
  {
   "cell_type": "code",
   "execution_count": 91,
   "id": "1a03ab6d",
   "metadata": {},
   "outputs": [
    {
     "ename": "FileNotFoundError",
     "evalue": "[Errno 2] No such file or directory: 'randomfilepath/randomfile.txt'",
     "output_type": "error",
     "traceback": [
      "\u001b[1;31m---------------------------------------------------------------------------\u001b[0m",
      "\u001b[1;31mFileNotFoundError\u001b[0m                         Traceback (most recent call last)",
      "Cell \u001b[1;32mIn[91], line 3\u001b[0m\n\u001b[0;32m      1\u001b[0m filepath \u001b[38;5;241m=\u001b[39m \u001b[38;5;124m'\u001b[39m\u001b[38;5;124mrandomfilepath/randomfile.txt\u001b[39m\u001b[38;5;124m'\u001b[39m\n\u001b[1;32m----> 3\u001b[0m \u001b[38;5;28;01mwith\u001b[39;00m \u001b[38;5;28mopen\u001b[39m(filepath,\u001b[38;5;124m'\u001b[39m\u001b[38;5;124mr\u001b[39m\u001b[38;5;124m'\u001b[39m) \u001b[38;5;28;01mas\u001b[39;00m file:\n\u001b[0;32m      4\u001b[0m     conts \u001b[38;5;241m=\u001b[39m file\u001b[38;5;241m.\u001b[39mread()\n",
      "File \u001b[1;32m~\\anaconda3\\Lib\\site-packages\\IPython\\core\\interactiveshell.py:284\u001b[0m, in \u001b[0;36m_modified_open\u001b[1;34m(file, *args, **kwargs)\u001b[0m\n\u001b[0;32m    277\u001b[0m \u001b[38;5;28;01mif\u001b[39;00m file \u001b[38;5;129;01min\u001b[39;00m {\u001b[38;5;241m0\u001b[39m, \u001b[38;5;241m1\u001b[39m, \u001b[38;5;241m2\u001b[39m}:\n\u001b[0;32m    278\u001b[0m     \u001b[38;5;28;01mraise\u001b[39;00m \u001b[38;5;167;01mValueError\u001b[39;00m(\n\u001b[0;32m    279\u001b[0m         \u001b[38;5;124mf\u001b[39m\u001b[38;5;124m\"\u001b[39m\u001b[38;5;124mIPython won\u001b[39m\u001b[38;5;124m'\u001b[39m\u001b[38;5;124mt let you open fd=\u001b[39m\u001b[38;5;132;01m{\u001b[39;00mfile\u001b[38;5;132;01m}\u001b[39;00m\u001b[38;5;124m by default \u001b[39m\u001b[38;5;124m\"\u001b[39m\n\u001b[0;32m    280\u001b[0m         \u001b[38;5;124m\"\u001b[39m\u001b[38;5;124mas it is likely to crash IPython. If you know what you are doing, \u001b[39m\u001b[38;5;124m\"\u001b[39m\n\u001b[0;32m    281\u001b[0m         \u001b[38;5;124m\"\u001b[39m\u001b[38;5;124myou can use builtins\u001b[39m\u001b[38;5;124m'\u001b[39m\u001b[38;5;124m open.\u001b[39m\u001b[38;5;124m\"\u001b[39m\n\u001b[0;32m    282\u001b[0m     )\n\u001b[1;32m--> 284\u001b[0m \u001b[38;5;28;01mreturn\u001b[39;00m io_open(file, \u001b[38;5;241m*\u001b[39margs, \u001b[38;5;241m*\u001b[39m\u001b[38;5;241m*\u001b[39mkwargs)\n",
      "\u001b[1;31mFileNotFoundError\u001b[0m: [Errno 2] No such file or directory: 'randomfilepath/randomfile.txt'"
     ]
    }
   ],
   "source": [
    "filepath = 'randomfilepath/randomfile.txt'\n",
    "\n",
    "with open(filepath,'r') as file:\n",
    "    conts = file.read();"
   ]
  },
  {
   "cell_type": "markdown",
   "id": "17f2d721",
   "metadata": {},
   "source": [
    "# Question 10\n",
    "Encryption is the process of hiding the meaning of a text by substituting letters in the message with other letters, according to some system. If the process is successful, no one but the intended recipient can understand the encrypted message. Cryptanalysis refers to attempts to undo the encryption, even if some details of the encryption are unknown (for example, if an encrypted message has been intercepted). The first step of cryptanalysis is often to build up a table of letter frequencies in the encrypted text. \n",
    "Assume that the string letters is already defined as 'abcdefghijklmnopqrstuvwxyz'. Write a function called frequencies() that takes a string as its only parameter, and returns a list of integers, showing the number of times each character appears in the text. Your function may ignore any characters that are not in letters. "
   ]
  },
  {
   "cell_type": "code",
   "execution_count": 10,
   "id": "bd02bfeb",
   "metadata": {},
   "outputs": [
    {
     "name": "stdout",
     "output_type": "stream",
     "text": [
      "Enter a sentence/word: The quick red fox got bored and went home.\n",
      "[1, 1, 1, 3, 5, 1, 1, 2, 1, 0, 1, 0, 1, 2, 4, 0, 1, 2, 0, 3, 1, 0, 1, 1, 0, 0]\n"
     ]
    }
   ],
   "source": [
    "def frequencies(getInput):\n",
    "    # Store character frequencies from a-z\n",
    "    character_count = [0] * 26  \n",
    "    \n",
    "    for char in getInput:\n",
    "        if char.isalpha():  # .isaplha check if the character is string or not\n",
    "            char = char.lower() \n",
    "            index = ord(char) - ord('a')  # ord() obtains the unicode value for any character\n",
    "            character_count[index] += 1\n",
    "\n",
    "    return character_count\n",
    "\n",
    "strInput = input('Enter a sentence/word: ')\n",
    "result = frequencies(strInput)\n",
    "print(result)\n"
   ]
  },
  {
   "cell_type": "code",
   "execution_count": null,
   "id": "2c82e5a6",
   "metadata": {},
   "outputs": [],
   "source": []
  }
 ],
 "metadata": {
  "kernelspec": {
   "display_name": "Python 3 (ipykernel)",
   "language": "python",
   "name": "python3"
  },
  "language_info": {
   "codemirror_mode": {
    "name": "ipython",
    "version": 3
   },
   "file_extension": ".py",
   "mimetype": "text/x-python",
   "name": "python",
   "nbconvert_exporter": "python",
   "pygments_lexer": "ipython3",
   "version": "3.11.4"
  }
 },
 "nbformat": 4,
 "nbformat_minor": 5
}
